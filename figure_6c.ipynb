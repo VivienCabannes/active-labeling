{
 "cells": [
  {
   "cell_type": "code",
   "execution_count": 1,
   "metadata": {},
   "outputs": [],
   "source": [
    "import matplotlib.pyplot as plt\n",
    "import numpy as np\n",
    "import pandas as pd\n",
    "from kernel import Kernel"
   ]
  },
  {
   "cell_type": "code",
   "execution_count": 2,
   "metadata": {},
   "outputs": [],
   "source": [
    "%load_ext autoreload\n",
    "%autoreload 2\n",
    "%matplotlib inline\n",
    "plt.rcParams[\"font.family\"] = \"serif\"\n",
    "plt.rcParams[\"font.serif\"] = \"Times\"\n",
    "plt.rc('text', usetex=True)"
   ]
  },
  {
   "cell_type": "code",
   "execution_count": 3,
   "metadata": {},
   "outputs": [],
   "source": [
    "def generate_random_sphere(n_train, m):\n",
    "    u = np.random.randn(n_train, m)\n",
    "    u /= np.sqrt(np.sum(u**2, axis=1))[:, np.newaxis]\n",
    "    return u\n",
    "\n",
    "def get_stepsize(T, gamma_0=1):\n",
    "    gamma = np.arange(T, dtype=float)\n",
    "    gamma += 1\n",
    "    np.sqrt(gamma, out=gamma)\n",
    "    np.divide(1, gamma, out=gamma)\n",
    "    gamma *= gamma_0\n",
    "    return gamma\n",
    "\n",
    "def median_error(y_pred, y_test, inplace=True):\n",
    "    if inplace:\n",
    "        err = y_pred\n",
    "        err -= y_test\n",
    "    else:\n",
    "        err = y_pred - y_test\n",
    "    err **= 2\n",
    "    err = np.sum(err, axis=1)\n",
    "    np.sqrt(err, out=err)\n",
    "    np.abs(err, out=err)\n",
    "    return err.mean()\n",
    "\n",
    "def mean_error(y_pred, y_test, inplace=True):\n",
    "    if inplace:\n",
    "        err = y_pred\n",
    "        err -= y_test\n",
    "    else:\n",
    "        err = y_pred - y_test\n",
    "    err **= 2\n",
    "    err *= err.shape[1]\n",
    "    err = np.mean(err)\n",
    "    return np.sqrt(err)"
   ]
  },
  {
   "cell_type": "code",
   "execution_count": 4,
   "metadata": {},
   "outputs": [],
   "source": [
    "cols = [3, 4, 5, 6, 7, 8, 10]\n",
    "df = pd.read_csv('weatherHistory.csv', usecols=cols, dtype=float)"
   ]
  },
  {
   "cell_type": "code",
   "execution_count": 5,
   "metadata": {},
   "outputs": [],
   "source": [
    "input_col = ['Temperature (C)', 'Humidity',\n",
    "       'Wind Speed (km/h)', 'Wind Bearing (degrees)', 'Visibility (km)',\n",
    "       'Pressure (millibars)']\n",
    "output_col = ['Apparent Temperature (C)']\n",
    "\n",
    "n_train = 70000\n",
    "causal = True\n",
    "\n",
    "if causal:\n",
    "    # Training set\n",
    "    x_train = df.iloc[:n_train][input_col].values\n",
    "    y_train = df.iloc[:n_train][output_col].values\n",
    "\n",
    "    # Testing set\n",
    "    x_test = df.iloc[n_train:][input_col].values\n",
    "    y_test = df.iloc[n_train:][output_col].values\n",
    "else:\n",
    "    # Training set\n",
    "    index_train = np.random.choice(len(df), n_train, replace=False)\n",
    "    x_train = df.iloc[index_train][input_col].values\n",
    "    y_train = df.iloc[index_train][output_col].values\n",
    "\n",
    "    # Testing set\n",
    "    index_test = np.ones(len(df), dtype=np.bool_)\n",
    "    index_test[index_train] = False\n",
    "    x_test = df.iloc[index_test][input_col].values\n",
    "    y_test = df.iloc[index_test][output_col].values\n",
    "\n",
    "# Normalization\n",
    "x_mean = x_train.mean(axis=0)\n",
    "x_std = x_train.std(axis=0)\n",
    "\n",
    "x_train -= x_mean\n",
    "x_train /= x_std\n",
    "x_test -= x_mean\n",
    "x_test /= x_std\n",
    "\n",
    "# Small trainset and testset\n",
    "n_small_train = 10000\n",
    "ind = np.random.choice(len(x_train), n_small_train, replace=True)\n",
    "x_small_train = x_train[ind]\n",
    "y_small_train = y_train[ind]\n",
    "\n",
    "n_small_test = 1000\n",
    "ind = np.random.choice(len(x_test), n_small_test, replace=True)\n",
    "x_small_test = x_test[ind]\n",
    "y_small_test = y_test[ind]\n",
    "\n",
    "# Normalized output (the easy part to learn)\n",
    "y_mean = y_train.mean(axis=0)\n",
    "y_std = y_train.std(axis=0)\n",
    "y_train -= y_mean\n",
    "y_train /= y_std\n",
    "y_test -= y_mean\n",
    "y_test /= y_std\n",
    "y_small_test -= y_mean\n",
    "y_small_test /= y_std"
   ]
  },
  {
   "cell_type": "code",
   "execution_count": 6,
   "metadata": {},
   "outputs": [
    {
     "name": "stdout",
     "output_type": "stream",
     "text": [
      "0.08194720179739665\n"
     ]
    }
   ],
   "source": [
    "# Real temperature baseline\n",
    "def easiest_baseline():\n",
    "    baseline = median_error(x_test[:, :1], y_test, inplace=False)\n",
    "    print(baseline)\n",
    "\n",
    "easiest_baseline()"
   ]
  },
  {
   "cell_type": "code",
   "execution_count": 7,
   "metadata": {},
   "outputs": [
    {
     "name": "stdout",
     "output_type": "stream",
     "text": [
      "1,2,3,4,5,6,"
     ]
    }
   ],
   "source": [
    "# Descent parameters\n",
    "gammas = [1e-2]\n",
    "num_it = n_train\n",
    "resampling = False\n",
    "\n",
    "# Randomness control\n",
    "np.random.seed(0)\n",
    "\n",
    "# Random questions\n",
    "n_train, m = y_train.shape\n",
    "u = generate_random_sphere(num_it, m)\n",
    "v = .3 * np.random.randn(num_it)\n",
    "\n",
    "# Kernel\n",
    "sigma = 1e1\n",
    "kernel = Kernel('gaussian', sigma=sigma)\n",
    "lambd = 1e-6\n",
    "\n",
    "# Function parameterization\n",
    "n_repr = 100\n",
    "ind = np.random.choice(len(x_train), n_repr, replace=True)\n",
    "x_repr = x_train[ind]\n",
    "kernel.set_support(x_repr)\n",
    "K_repr = kernel.get_k()\n",
    "K_test = kernel(x_test).T\n",
    "\n",
    "# Assume that parameters where initialized around a good model\n",
    "def good_init():\n",
    "    K = kernel(x_repr)\n",
    "    lambd = 1e-6 * n_repr\n",
    "    K += lambd * np.eye(len(K))\n",
    "    return np.linalg.solve(K, y_train[ind])\n",
    "\n",
    "theta_init = good_init()\n",
    "theta_init += 1e-1 * np.random.randn(*theta_init.shape)\n",
    "\n",
    "# Placeholders\n",
    "full_error_w = np.zeros((num_it, len(gammas)))\n",
    "full_error_f = np.zeros((num_it, len(gammas)))\n",
    "theta_w = np.empty((n_repr, 1))\n",
    "theta_ave_w = np.empty((n_repr, 1))\n",
    "theta_f = np.empty((n_repr, 1))\n",
    "theta_ave_f = np.empty((n_repr, 1))\n",
    "grad = np.empty(theta_w.shape)\n",
    "K_train = kernel(x_repr[:1]).T\n",
    "\n",
    "if resampling:\n",
    "    I = np.random.choice(n_train, num_it, replace=True)\n",
    "else:\n",
    "    I = np.arange(num_it)\n",
    "\n",
    "for i_g, gamma_0 in enumerate(gammas):\n",
    "    gamma = get_stepsize(num_it, gamma_0)\n",
    "\n",
    "    # Descent initialization\n",
    "    theta_w[:] = theta_init\n",
    "    theta_f[:] = theta_init\n",
    "    theta_ave_f[:] = 0\n",
    "    theta_ave_w[:] = 0\n",
    "\n",
    "    for i in range(n_repr, num_it):\n",
    "        # New point\n",
    "        ind = I[i]\n",
    "        K_train[:] = kernel(x_train[ind:ind+1]).T\n",
    "\n",
    "        # Active update\n",
    "        epsilon = np.sign((K_train @ theta_w - y_train[ind]) @ u[i])\n",
    "        grad[:] = 1\n",
    "        grad *= u[i]\n",
    "        grad *= K_train.T\n",
    "        grad *= epsilon\n",
    "        grad += lambd * K_repr @ theta_w\n",
    "        grad *= gamma[i]\n",
    "        theta_w -= grad\n",
    "\n",
    "        # Passive update\n",
    "        eps_sig = np.sign((y_train[ind] @ u[i]) - v[i])\n",
    "        eps_fun = np.sign(((K_train @ theta_f) @ u[i]) - v[i])\n",
    "        if eps_sig != eps_fun:\n",
    "            grad[:] = 1\n",
    "            grad *= u[i]\n",
    "            grad *= K_train.T\n",
    "            grad *= eps_fun\n",
    "            grad += lambd * K_repr @ theta_f\n",
    "            grad *= gamma[i]\n",
    "            theta_f -= grad\n",
    "\n",
    "        # Averaging iterates\n",
    "        theta_ave_w *= i\n",
    "        theta_ave_w += theta_w\n",
    "        theta_ave_w /= (i+1)\n",
    "        theta_ave_f *= i\n",
    "        theta_ave_f += theta_f\n",
    "        theta_ave_f /= (i+1)\n",
    "\n",
    "        y_pred_w = K_test @ theta_ave_w\n",
    "        full_error_w[i, i_g] = median_error(y_pred_w, y_test)\n",
    "\n",
    "        y_pred_f = K_test @ theta_ave_f\n",
    "        full_error_f[i, i_g] = median_error(y_pred_f, y_test)\n",
    "        if not i % int(1e4):\n",
    "            print(i//int(1e4), end=',')"
   ]
  },
  {
   "cell_type": "code",
   "execution_count": 10,
   "metadata": {},
   "outputs": [
    {
     "data": {
      "image/png": "[encoded data removed]",
      "text/plain": [
       "<Figure size 720x504 with 1 Axes>"
      ]
     },
     "metadata": {
      "needs_background": "light"
     },
     "output_type": "display_data"
    }
   ],
   "source": [
    "# fig, ax = plt.subplots(figsize=(2.5, 1.75))\n",
    "fig, ax = plt.subplots(figsize=(10, 7))\n",
    "for i in range(len(gammas)):\n",
    "    a, = ax.plot(full_error_w[n_repr:, i])\n",
    "    b, = ax.plot(full_error_f[n_repr:, i])\n",
    "\n",
    "c, = ax.plot(np.arange(n_train-n_repr), np.full(n_train-n_repr, median_error(x_test[:, :1], y_test, inplace=False)), c='k', linestyle='--')\n",
    "ax.set_xscale('log')\n",
    "ax.set_yscale('log')\n",
    "ax.legend([a, b, c], ['active', 'passive', 'baseline'], prop={'size': 6})\n",
    "\n",
    "# plt.yticks(fontsize=6)\n",
    "# plt.xticks(fontsize=6)\n",
    "ax.set_title(r\"Weather dataset\", size=10)\n",
    "ax.set_xlabel(r\"Iteration $T$\", size=8)\n",
    "ax.set_ylabel(r\"Test risk of $\\bar\\theta_T$\", size=8)\n",
    "fig.tight_layout()\n",
    "# fig.savefig(\"real_temp.pdf\")"
   ]
  },
  {
   "cell_type": "code",
   "execution_count": null,
   "metadata": {},
   "outputs": [],
   "source": []
  }
 ],
 "metadata": {
  "kernelspec": {
   "display_name": "Python 3.10.4 ('dev')",
   "language": "python",
   "name": "python3"
  },
  "language_info": {
   "codemirror_mode": {
    "name": "ipython",
    "version": 3
   },
   "file_extension": ".py",
   "mimetype": "text/x-python",
   "name": "python",
   "nbconvert_exporter": "python",
   "pygments_lexer": "ipython3",
   "version": "3.10.4"
  },
  "orig_nbformat": 4,
  "vscode": {
   "interpreter": {
    "hash": "af820371eac2d160e15966347573848258aa163f625184e241d6c8dde11118fc"
   }
  }
 },
 "nbformat": 4,
 "nbformat_minor": 2
}
