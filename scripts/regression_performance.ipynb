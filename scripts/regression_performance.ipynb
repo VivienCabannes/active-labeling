{
 "cells": [
  {
   "cell_type": "code",
   "execution_count": 1,
   "metadata": {},
   "outputs": [],
   "source": [
    "import numpy as np\n",
    "import matplotlib.pyplot as plt\n",
    "from kernel import Kernel"
   ]
  },
  {
   "cell_type": "code",
   "execution_count": 2,
   "metadata": {},
   "outputs": [],
   "source": [
    "%load_ext autoreload\n",
    "%autoreload 2"
   ]
  },
  {
   "cell_type": "code",
   "execution_count": 3,
   "id": "sexual-violation",
   "metadata": {},
   "outputs": [
    {
     "name": "stderr",
     "output_type": "stream",
     "text": [
      "/var/folders/yg/djxj05p562nc92kcrz6sfj3c0000gn/T/ipykernel_40376/3356598534.py:2: MatplotlibDeprecationWarning: Support for setting an rcParam that expects a str value to a non-str value is deprecated since 3.5 and support will be removed two minor releases later.\n",
      "  plt.rcParams['text.latex.preamble'] = [r'\\usepackage{newtxmath}']\n"
     ]
    }
   ],
   "source": [
    "%matplotlib inline\n",
    "plt.rcParams['text.latex.preamble'] = [r'\\usepackage{newtxmath}'] \n",
    "plt.rcParams['text.usetex'] = True\n",
    "plt.rcParams[\"font.family\"] = \"serif\"\n",
    "plt.rcParams[\"font.serif\"] = \"Times\"\n",
    "plt.rc('text', usetex=True)"
   ]
  },
  {
   "cell_type": "code",
   "execution_count": 4,
   "metadata": {},
   "outputs": [],
   "source": [
    "np.random.seed(0)"
   ]
  },
  {
   "cell_type": "code",
   "execution_count": 5,
   "metadata": {},
   "outputs": [
    {
     "name": "stdout",
     "output_type": "stream",
     "text": [
      "0,1,2,3,4,5,6,7,8,9,10,11,12,13,14,15,16,17,18,19,20,21,22,23,24,25,26,27,28,29,30,31,32,33,34,35,36,37,38,39,40,41,42,43,44,45,46,47,48,49,50,51,52,53,54,55,56,57,58,59,60,61,62,63,64,65,66,67,68,69,70,71,72,73,74,75,76,77,78,79,80,81,82,83,84,85,86,87,88,89,90,91,92,93,94,95,96,97,98,99,"
     ]
    }
   ],
   "source": [
    "def target_func(x, omega=2*np.pi):\n",
    "    return np.sin(omega * x)\n",
    "\n",
    "def get_stepsize(T, gamma_0=1):\n",
    "    gamma = np.arange(T, dtype=float)\n",
    "    gamma += 1\n",
    "    np.sqrt(gamma, out=gamma)\n",
    "    np.divide(1, gamma, out=gamma)\n",
    "    gamma *= gamma_0\n",
    "    return gamma\n",
    "\n",
    "n_exp = 100\n",
    "n_train = int(1e4)\n",
    "gamma_0 = 1\n",
    "gamma = get_stepsize(n_train, gamma_0)\n",
    "\n",
    "sigma = .2\n",
    "kernel = Kernel('gaussian', sigma=sigma)\n",
    "\n",
    "n_test = 100\n",
    "x_test = np.linspace(0, 1, n_test, dtype=np.float32)\n",
    "y_test = target_func(x_test)\n",
    "\n",
    "alpha = np.zeros(n_train, np.float32)\n",
    "average_alpha = np.zeros(n_train, np.float32)\n",
    "error = np.zeros((n_exp, n_train), np.float32)\n",
    "\n",
    "alpha_bis = np.zeros(n_train, np.float32)\n",
    "average_alpha_bis = np.zeros(n_train, np.float32)\n",
    "error_bis = np.zeros((n_exp, n_train), np.float32)\n",
    "\n",
    "y_pred = np.zeros(n_test, np.float32)\n",
    "K = np.zeros((n_train, n_train), dtype=np.float32)\n",
    "k_test = np.zeros((n_test, n_train), dtype=np.float32)\n",
    "\n",
    "for j in range(n_exp):\n",
    "\n",
    "    x_train = np.random.rand(n_train)[:, np.newaxis].astype(np.float32)\n",
    "    kernel.set_support(x_train)\n",
    "    K[:] = kernel(x_train)\n",
    "    k_test[:] = kernel(x_test[:, np.newaxis]).T\n",
    "\n",
    "    u = np.random.randn(n_train)\n",
    "    err_u = np.sign(u - target_func(x_train[:,0]))\n",
    "\n",
    "    alpha[:] = 0\n",
    "    alpha_bis[:] = 0\n",
    "    average_alpha[:] = 0\n",
    "    average_alpha_bis[:] = 0\n",
    "    for i in range(n_train):\n",
    "        z = K[i] @ alpha\n",
    "        epsilon = np.sign(z - target_func(x_train[i,0]))\n",
    "        alpha[i] -= epsilon * gamma[i]\n",
    "        average_alpha += alpha\n",
    "\n",
    "        err = np.sign(u[i] - K[i] @ alpha_bis)\n",
    "        err_u[i] -= err\n",
    "        err_u[i] = np.abs(err_u[i]) / 2\n",
    "        err_u[i] *= err\n",
    "        alpha_bis[i] += err_u[i] * gamma[i]\n",
    "        average_alpha_bis += alpha_bis\n",
    "\n",
    "        y_pred[:] = k_test @ average_alpha \n",
    "        y_pred /= i+1\n",
    "        y_pred -= y_test\n",
    "        np.abs(y_pred, out=y_pred)\n",
    "        error[j, i] = y_pred.mean()\n",
    "\n",
    "        y_pred[:] = k_test @ average_alpha_bis\n",
    "        y_pred /= i+1\n",
    "        y_pred -= y_test\n",
    "        np.abs(y_pred, out=y_pred)\n",
    "        error_bis[j, i] = y_pred.mean()\n",
    "    print(j, end=',')"
   ]
  },
  {
   "cell_type": "code",
   "execution_count": 6,
   "metadata": {},
   "outputs": [],
   "source": [
    "ave_error = error.mean(axis=0)\n",
    "std_error = error.std(axis=0)\n",
    "ave_error_bis = error_bis.mean(axis=0)\n",
    "std_error_bis = error_bis.std(axis=0)"
   ]
  },
  {
   "cell_type": "code",
   "execution_count": 10,
   "metadata": {},
   "outputs": [
    {
     "data": {
      "image/png": "[encoded data removed]",
      "text/plain": [
       "<Figure size 180x126 with 1 Axes>"
      ]
     },
     "metadata": {
      "needs_background": "light"
     },
     "output_type": "display_data"
    }
   ],
   "source": [
    "fig, ax = plt.subplots(1, 1, figsize=(2.5, 1.75))\n",
    "ax.fill_between(np.arange(n_train) + 1, ave_error + std_error, ave_error - std_error, color='C0', alpha=.2)\n",
    "a, = ax.plot(np.arange(n_train) + 1, ave_error, c='C0')\n",
    "ax.fill_between(np.arange(n_train) + 1, ave_error_bis + std_error_bis, ave_error_bis - std_error_bis, color='C1', alpha=.2)\n",
    "b, = ax.plot(np.arange(n_train) + 1, ave_error_bis, c='C1')\n",
    "ax.set_xscale('log')\n",
    "ax.set_yscale('log')\n",
    "ax.legend([a, b], ['active', 'passive'], prop={'size': 6})\n",
    "plt.yticks(fontsize=6)\n",
    "plt.xticks(fontsize=6)\n",
    "ax.set_title(r'Regression task', size=10)\n",
    "ax.set_xlabel(r\"iteration $T$\", size=8)\n",
    "ax.set_ylabel(r\"Risk of $\\bar\\theta_T$\", size=8)\n",
    "fig.tight_layout()\n",
    "fig.savefig(\"regression_error.pdf\")"
   ]
  },
  {
   "cell_type": "code",
   "execution_count": null,
   "metadata": {},
   "outputs": [],
   "source": []
  }
 ],
 "metadata": {
  "interpreter": {
   "hash": "6e77f3e809b5fc3967aec2f13ddc30d03656368ceeeb4442aff5a03adfc28979"
  },
  "kernelspec": {
   "display_name": "Python 3.9.12 ('art')",
   "language": "python",
   "name": "python3"
  },
  "language_info": {
   "codemirror_mode": {
    "name": "ipython",
    "version": 3
   },
   "file_extension": ".py",
   "mimetype": "text/x-python",
   "name": "python",
   "nbconvert_exporter": "python",
   "pygments_lexer": "ipython3",
   "version": "3.9.12"
  },
  "orig_nbformat": 4
 },
 "nbformat": 4,
 "nbformat_minor": 2
}
