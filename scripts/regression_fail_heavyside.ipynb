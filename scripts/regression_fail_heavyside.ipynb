{
 "cells": [
  {
   "cell_type": "code",
   "execution_count": 3,
   "metadata": {},
   "outputs": [],
   "source": [
    "import numpy as np\n",
    "import matplotlib.pyplot as plt\n",
    "from activelabeling.kernel import Kernel"
   ]
  },
  {
   "cell_type": "code",
   "execution_count": 4,
   "metadata": {},
   "outputs": [],
   "source": [
    "%load_ext autoreload\n",
    "%autoreload 2"
   ]
  },
  {
   "cell_type": "code",
   "execution_count": 6,
   "id": "sexual-violation",
   "metadata": {},
   "outputs": [],
   "source": [
    "%matplotlib inline\n",
    "plt.rc('text', usetex=True)\n",
    "plt.rc('text.latex', preamble=r'\\usepackage{newtxmath}') \n",
    "plt.rcParams[\"font.family\"] = \"serif\"\n",
    "plt.rcParams[\"font.serif\"] = \"Times\""
   ]
  },
  {
   "cell_type": "markdown",
   "metadata": {},
   "source": [
    "## Setup"
   ]
  },
  {
   "cell_type": "code",
   "execution_count": 4,
   "metadata": {},
   "outputs": [],
   "source": [
    "def eta_bumps(x, epsilon=.01):\n",
    "    y = np.empty(len(x), dtype=float)\n",
    "    y[x <= .5] = 1\n",
    "    y[(x > .5) & (x <= 1)] = epsilon\n",
    "    y[(x > 1) & (x <= 2.5)] = -epsilon\n",
    "    y[x > 2.5] = -1\n",
    "    return y"
   ]
  },
  {
   "cell_type": "code",
   "execution_count": 5,
   "metadata": {},
   "outputs": [],
   "source": [
    "n = 500\n",
    "x_train = np.hstack((np.linspace(0, 1, num=n//2), np.linspace(2, 3, num=n//2)))\n",
    "y_train = eta_bumps(x_train)\n",
    "y_proba = (y_train + 1) / 2\n",
    "\n",
    "x = np.hstack((x_train, x_train))[:, np.newaxis]\n",
    "y = np.hstack((np.ones(len(x_train)), -np.ones(len(x_train))))\n",
    "w = np.hstack((y_proba, 1 - y_proba))"
   ]
  },
  {
   "cell_type": "code",
   "execution_count": 6,
   "metadata": {},
   "outputs": [
    {
     "name": "stderr",
     "output_type": "stream",
     "text": [
      "/var/folders/yg/djxj05p562nc92kcrz6sfj3c0000gn/T/ipykernel_45407/3399563618.py:10: UserWarning: Matplotlib is currently using module://matplotlib_inline.backend_inline, which is a non-GUI backend, so cannot show the figure.\n",
      "  fig.show()\n"
     ]
    },
    {
     "data": {
      "image/png": "[encoded data removed]",
      "text/plain": [
       "<Figure size 129.6x108 with 1 Axes>"
      ]
     },
     "metadata": {
      "needs_background": "light"
     },
     "output_type": "display_data"
    }
   ],
   "source": [
    "fig, axis = plt.subplots(1, 1, figsize=(1.8, 1.5))\n",
    "\n",
    "axis.plot(x_train[:n//2], y_train[:n//2], c='C0')\n",
    "axis.plot(x_train[n//2:], y_train[n//2:], c='C0')\n",
    "axis.set_title(r\"$\\eta(x)$\", fontsize=10)\n",
    "axis.set_xticks([])\n",
    "axis.grid()\n",
    "axis.set_xlabel(r'input $x$', fontsize=8)\n",
    "fig.tight_layout()\n",
    "fig.show()\n",
    "# fig.savefig('noisy_class.pdf')"
   ]
  },
  {
   "cell_type": "markdown",
   "metadata": {},
   "source": [
    "## Training"
   ]
  },
  {
   "cell_type": "code",
   "execution_count": 7,
   "metadata": {},
   "outputs": [],
   "source": [
    "sigma = .1\n",
    "lambd = 1e-2\n",
    "\n",
    "kernel = Kernel('gaussian', sigma=.1)\n",
    "kernel.set_support(x_train[:, np.newaxis])\n",
    "K = kernel(x_train[:, np.newaxis])"
   ]
  },
  {
   "cell_type": "code",
   "execution_count": 8,
   "metadata": {},
   "outputs": [],
   "source": [
    "alpha_krr = np.linalg.solve(K + lambd * n * np.eye(n), y_train)"
   ]
  },
  {
   "cell_type": "code",
   "execution_count": 9,
   "metadata": {},
   "outputs": [
    {
     "name": "stdout",
     "output_type": "stream",
     "text": [
      "0 0.05803018706633908 4.316160217384923\n",
      "33333 0.013287287121923242 0.06520623722084673\n",
      "66666 0.014085471997273348 0.06394781495423885\n",
      "99999 0.014684736114815201 0.06342218038399261\n",
      "133332 0.015387008668813009 0.06312186646912477\n",
      "166665 0.01599004347922727 0.06291117044980454\n",
      "199998 0.016628521348225834 0.06274868626331198\n",
      "233331 0.017103580296566754 0.06262291660959818\n",
      "266664 0.017536188602753678 0.06252403886579982\n",
      "299997 0.017855994574031413 0.06244314992969224\n",
      "333330 0.0181790049511083 0.06237466054759555\n",
      "366663 0.01843725999380357 0.062315572102812355\n",
      "399996 0.01869269194202024 0.062264317767031785\n",
      "433329 0.01889080794317347 0.06221919497842343\n",
      "466662 0.019098965499205308 0.06217872802059221\n",
      "499995 0.01926080926765681 0.062142619306577496\n",
      "533328 0.019433875132313268 0.06210998326516903\n",
      "566661 0.01957488425586272 0.06208037568466507\n",
      "599994 0.019727397561249412 0.06205363037896505\n",
      "633327 0.019846984199227823 0.06202959662191454\n",
      "666660 0.019976155776054556 0.062007558398870066\n",
      "699993 0.020076029251257357 0.06198726103494567\n",
      "733326 0.020186386243873394 0.061968513053853536\n",
      "766659 0.02027263992696843 0.06195113660137863\n",
      "799992 0.020372330434751205 0.061934919990607185\n",
      "833325 0.02045084372615682 0.06191974358810037\n",
      "866658 0.02054303460241151 0.06190541010426931\n",
      "899991 0.020616779298694963 0.061891861395916625\n",
      "933324 0.020701689128584114 0.06187909608046982\n",
      "966657 0.020768326163416367 0.06186707337122466\n",
      "999990 0.020844281337728282 0.06185568541301856\n"
     ]
    }
   ],
   "source": [
    "alpha = np.zeros(n, dtype=float)\n",
    "average_alpha = np.zeros(n, dtype=float)\n",
    "\n",
    "def get_stepsize(T, gamma_0=1):\n",
    "    gamma = np.arange(T, dtype=float)\n",
    "    gamma += 1\n",
    "    np.power(gamma, -1/2, out=gamma)\n",
    "    gamma *= gamma_0\n",
    "    return gamma\n",
    "\n",
    "n_steps = int(1e6)\n",
    "gamma = get_stepsize(n_steps, 1)\n",
    "error = np.zeros(n_steps)\n",
    "error_min = (np.abs(np.sign(y_train) - 1) * y_proba).mean()\n",
    "error_min += (np.abs(np.sign(y_train) + 1) * (1 - y_proba)).mean()\n",
    "\n",
    "tmp, tmp_grad = np.empty(n, dtype=float), np.empty(n, dtype=float)\n",
    "\n",
    "for i in range(n_steps):\n",
    "    tmp[:] = K @ alpha \n",
    "    error[i] += (np.abs(tmp - 1) * y_proba).mean()\n",
    "    error[i] += (np.abs(tmp + 1) * (1 - y_proba)).mean()\n",
    "    error[i] += lambd * (alpha.T @ tmp)\n",
    "\n",
    "    tmp_grad[:] = 0\n",
    "    tmp_grad += np.sign(tmp - 1) * y_proba\n",
    "    tmp_grad += np.sign(tmp + 1) * (1 - y_proba)\n",
    "    grad = K @ tmp_grad\n",
    "    tmp *= 2 * n * lambd\n",
    "    grad += tmp\n",
    "    grad /= n\n",
    "    alpha -= gamma[i] * grad\n",
    "\n",
    "    average_alpha += alpha\n",
    "    if not (i % (n_steps // 30)):\n",
    "        tmp[:] = K @ average_alpha / (i+1)\n",
    "        err = (np.abs(tmp - 1) * y_proba).mean()\n",
    "        err += (np.abs(tmp + 1) * (1 - y_proba)).mean()\n",
    "        err += lambd * (average_alpha.T @ tmp) / (i+1)\n",
    "        print(i, np.abs(alpha).mean(), err - error_min)"
   ]
  },
  {
   "cell_type": "markdown",
   "metadata": {},
   "source": [
    "## Testing"
   ]
  },
  {
   "cell_type": "code",
   "execution_count": 11,
   "metadata": {},
   "outputs": [],
   "source": [
    "z_krr = kernel(x_train[:, np.newaxis]).T @ alpha_krr\n",
    "x_comp = np.linspace(1, 2)\n",
    "k_comp = kernel(x_comp[:, np.newaxis])\n",
    "z_comp_krr = k_comp.T @ alpha_krr\n",
    "z = K @ average_alpha / n_steps\n",
    "z_comp = k_comp.T @ average_alpha / n_steps"
   ]
  },
  {
   "cell_type": "code",
   "execution_count": 12,
   "metadata": {},
   "outputs": [
    {
     "data": {
      "text/plain": [
       "Text(0.5, 1.0, 'Training error')"
      ]
     },
     "execution_count": 12,
     "metadata": {},
     "output_type": "execute_result"
    },
    {
     "data": {
      "image/png": "[encoded data removed]",
      "text/plain": [
       "<Figure size 720x288 with 2 Axes>"
      ]
     },
     "metadata": {
      "needs_background": "light"
     },
     "output_type": "display_data"
    }
   ],
   "source": [
    "fig, (ax1, ax2) = plt.subplots(1, 2, figsize=(10, 4))\n",
    "# ax1.plot(x_train[:n//2], z[:n//2], c='C0')\n",
    "a, = ax1.plot(x_comp, z_comp, c='C0', ls='--')\n",
    "ax1.plot(x_train[n//2:], z[n//2:], c='C0')\n",
    "z_bis = K @ alpha\n",
    "z_bis_comp = k_comp.T @ alpha\n",
    "b, = ax1.plot(x_train[:n//2], z_bis[:n//2], c='C1')\n",
    "ax1.plot(x_comp, z_bis_comp, c='C1', ls='--')\n",
    "# ax1.plot(x_train[n//2:], z[n//2:], c='C1')\n",
    "ax1.legend([a, b], ['average', 'last iterate'])\n",
    "ax1.set_title('Signal reconstuction')\n",
    "ax2.plot(error - error_min)\n",
    "ax2.set_xscale('log')\n",
    "ax2.set_yscale('log')\n",
    "ax2.set_title('Training error')"
   ]
  },
  {
   "cell_type": "code",
   "execution_count": 13,
   "metadata": {},
   "outputs": [
    {
     "name": "stderr",
     "output_type": "stream",
     "text": [
      "/var/folders/yg/djxj05p562nc92kcrz6sfj3c0000gn/T/ipykernel_45407/827642478.py:11: UserWarning: Matplotlib is currently using module://matplotlib_inline.backend_inline, which is a non-GUI backend, so cannot show the figure.\n",
      "  fig.show()\n"
     ]
    },
    {
     "data": {
      "image/png": "[encoded data removed]",
      "text/plain": [
       "<Figure size 180x126 with 1 Axes>"
      ]
     },
     "metadata": {
      "needs_background": "light"
     },
     "output_type": "display_data"
    }
   ],
   "source": [
    "fig, axis = plt.subplots(1, 1, figsize=(2.5, 1.75))\n",
    "\n",
    "axis.plot(x_train[:n//2], z[:n//2], c='C0')\n",
    "axis.plot(x_comp, z_comp, c='C0', ls='--')\n",
    "axis.plot(x_train[n//2:], z[n//2:], c='C0')\n",
    "axis.set_title(r\"Median bias\", fontsize=10)\n",
    "axis.set_xticks([])\n",
    "axis.set_xlabel(r'input $x$', fontsize=8)\n",
    "axis.grid()\n",
    "fig.tight_layout()\n",
    "fig.show()\n",
    "# fig.savefig('noisy_median_bis.pdf')\n"
   ]
  },
  {
   "cell_type": "code",
   "execution_count": 14,
   "metadata": {},
   "outputs": [
    {
     "name": "stderr",
     "output_type": "stream",
     "text": [
      "/var/folders/yg/djxj05p562nc92kcrz6sfj3c0000gn/T/ipykernel_45407/3574256898.py:11: UserWarning: Matplotlib is currently using module://matplotlib_inline.backend_inline, which is a non-GUI backend, so cannot show the figure.\n",
      "  fig.show()\n"
     ]
    },
    {
     "data": {
      "image/png": "[encoded data removed]",
      "text/plain": [
       "<Figure size 180x126 with 1 Axes>"
      ]
     },
     "metadata": {
      "needs_background": "light"
     },
     "output_type": "display_data"
    }
   ],
   "source": [
    "fig, axis = plt.subplots(1, 1, figsize=(2.5, 1.75))\n",
    "\n",
    "axis.plot(x_train[:n//2], z_krr[:n//2], c='C0')\n",
    "axis.plot(x_comp, z_comp_krr, c='C0', ls='--')\n",
    "axis.plot(x_train[n//2:], z_krr[n//2:], c='C0')\n",
    "axis.set_title(r\"Least-square bias\", fontsize=10)\n",
    "axis.set_xticks([])\n",
    "axis.set_xlabel(r'input $x$', fontsize=8)\n",
    "axis.grid()\n",
    "fig.tight_layout()\n",
    "fig.show()\n",
    "# fig.savefig('noisy_ls_bis.pdf')\n"
   ]
  },
  {
   "cell_type": "code",
   "execution_count": null,
   "metadata": {},
   "outputs": [],
   "source": []
  }
 ],
 "metadata": {
  "kernelspec": {
   "display_name": "Python 3.10.4 ('dev')",
   "language": "python",
   "name": "python3"
  },
  "language_info": {
   "codemirror_mode": {
    "name": "ipython",
    "version": 3
   },
   "file_extension": ".py",
   "mimetype": "text/x-python",
   "name": "python",
   "nbconvert_exporter": "python",
   "pygments_lexer": "ipython3",
   "version": "3.10.4"
  },
  "orig_nbformat": 4,
  "vscode": {
   "interpreter": {
    "hash": "eeb90ca8861134173ea2edb6120d403a551dc71a17254f2d5d4c5ae7c0686c83"
   }
  }
 },
 "nbformat": 4,
 "nbformat_minor": 2
}
