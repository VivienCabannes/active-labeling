{
 "cells": [
  {
   "cell_type": "code",
   "execution_count": 26,
   "metadata": {},
   "outputs": [],
   "source": [
    "import numpy as np\n",
    "import matplotlib.pyplot as plt\n",
    "from kernel import Kernel"
   ]
  },
  {
   "cell_type": "code",
   "execution_count": 27,
   "metadata": {},
   "outputs": [
    {
     "name": "stdout",
     "output_type": "stream",
     "text": [
      "The autoreload extension is already loaded. To reload it, use:\n",
      "  %reload_ext autoreload\n"
     ]
    }
   ],
   "source": [
    "%load_ext autoreload\n",
    "%autoreload 2\n",
    "%matplotlib inline\n",
    "plt.rcParams['text.usetex'] = True\n",
    "plt.rcParams[\"font.family\"] = \"serif\"\n",
    "plt.rcParams[\"font.serif\"] = \"Times\"\n",
    "plt.rc('text', usetex=True)\n",
    "\n",
    "np.random.seed(0)"
   ]
  },
  {
   "cell_type": "code",
   "execution_count": 28,
   "metadata": {},
   "outputs": [],
   "source": [
    "def get_eta(x, m=3):\n",
    "    p = np.zeros((len(x), m), dtype=float)\n",
    "\n",
    "    to_visit = np.ones(x.shape, dtype=bool)\n",
    "    ind = x < .25\n",
    "    p[ind] = 0\n",
    "    p[ind, 0] = 1\n",
    "    p[ind] += 4 * x[ind, np.newaxis] / m\n",
    "    p[ind, 0] -= 4 * x[ind]\n",
    "    to_visit[ind] = 0\n",
    "\n",
    "    ind[:] = x < .5\n",
    "    ind &= to_visit\n",
    "    p[ind] = 1/m\n",
    "    p[ind] -= 4 * (x[ind, np.newaxis] - .25) / m\n",
    "    p[ind, 1] += 4 * (x[ind] - .25)\n",
    "    to_visit[ind] = 0\n",
    "\n",
    "    ind[:] = x < .75\n",
    "    ind &= to_visit\n",
    "    p[ind] = 0\n",
    "    p[ind, 1] = 1\n",
    "    p[ind] += 4 * (x[ind, np.newaxis] - .5) / m\n",
    "    p[ind, 1] -= 4 * (x[ind] - .5)\n",
    "    to_visit[ind] = 0\n",
    "\n",
    "    ind[:] = to_visit\n",
    "    p[ind] = 1 / m\n",
    "    p[ind] -= 4 * (x[ind, np.newaxis] - .75) / m\n",
    "    p[ind, 2] += 4 * (x[ind] - .75)\n",
    "    \n",
    "    return p\n",
    "\n",
    "\n",
    "def get_samples_from_p(p):\n",
    "    repartition_p = np.cumsum(p, axis=1)\n",
    "    u = np.random.rand(p.shape[0])[:, np.newaxis]\n",
    "    return (u > repartition_p).sum(axis=1)\n",
    "\n",
    "\n",
    "def get_labels(x, m=3):\n",
    "    return get_samples_from_p(get_eta(x, m=m))\n",
    "\n",
    "def get_one_hot(y, m=None):\n",
    "    n = len(y)\n",
    "    if m is None:\n",
    "        m = np.max(y) + 1\n",
    "\n",
    "    out = np.zeros((n, m), float)\n",
    "    out[np.arange(n), y] = 1\n",
    "    return out\n",
    "\n",
    "def get_num(y):\n",
    "    return y.argmax(axis=1)\n",
    "\n",
    "def get_inputs(num, epsilon=.05, test=False):\n",
    "    \"\"\"Generate uniform inputs on interval with holes\n",
    "\n",
    "    The interval is defined as :math:`X([0, 1] \\backslash [.25-\\epsilon, .25+\\epsilon] \\backslash [.75-\\epsilon, .75+\\epsilon])`\n",
    "    Useful to make sure that our examples verifies a hard margin condition leading to exponential convergence rates.\n",
    "\n",
    "    Args:\n",
    "        num (int): Number of samples to generate.\n",
    "        epsilon (float, optional): Specify hole width. Default in .05.\n",
    "        test (bool, optional): If specified, it returns deterministic samples that are uniformly spreads out. Default is False.\n",
    "\n",
    "    Returns:\n",
    "        x (ndarray): Samples in :math:`[0, 1]` as a 1d NumPy array.\n",
    "    \"\"\"\n",
    "    if test:\n",
    "        x = np.linspace(0, 1, num=num)\n",
    "    else:\n",
    "        x = np.random.rand(num) \n",
    "    x *= 1 - 4 * epsilon\n",
    "    x[x > .25 - epsilon] += 2*epsilon\n",
    "    x[x > .75 - epsilon] += 2*epsilon \n",
    "    return x\n",
    "\n",
    "\n",
    "def generate_random_sphere(n_train, m):\n",
    "    u = np.random.randn(n_train, m)\n",
    "    u /= np.sqrt(np.sum(u**2, axis=1))[:, np.newaxis]\n",
    "    return u\n",
    "\n",
    "def generate_random_coordinate(n_train, m):\n",
    "    u = np.random.randn(n_train, m)\n",
    "    return (u == u.max(axis=1)[:, np.newaxis]).astype(float)\n",
    "\n",
    "def get_stepsize(T, gamma_0=1):\n",
    "    gamma = np.arange(T, dtype=float)\n",
    "    gamma += 1\n",
    "    np.sqrt(gamma, out=gamma)\n",
    "    np.divide(1, gamma, out=gamma)\n",
    "    gamma *= gamma_0\n",
    "    return gamma"
   ]
  },
  {
   "cell_type": "code",
   "execution_count": 29,
   "metadata": {},
   "outputs": [],
   "source": [
    "m = 3\n",
    "n_train = int(1e3)\n",
    "x_train = get_inputs(n_train)\n",
    "y_train_num = get_labels(x_train, m=m)\n",
    "y_train = get_one_hot(y_train_num, m=m)\n",
    "\n",
    "n_test = int(1e2)\n",
    "x_test = get_inputs(n_test, test=True)\n",
    "p_test = get_eta(x_test, m=m)\n",
    "y_test = get_num(p_test)\n",
    "\n",
    "gamma_0 = 5\n",
    "gamma = get_stepsize(n_train, gamma_0)\n",
    "u = generate_random_sphere(n_train, m)\n",
    "u_coor = generate_random_coordinate(n_train, m)\n",
    "\n",
    "sigma = .2\n",
    "kernel = Kernel('gaussian', sigma=sigma)\n",
    "kernel.set_support(x_train[:, np.newaxis])\n",
    "K = kernel(x_train[:, np.newaxis])\n",
    "k_test = kernel(x_test[:, np.newaxis]).T"
   ]
  },
  {
   "cell_type": "code",
   "execution_count": 30,
   "metadata": {},
   "outputs": [
    {
     "data": {
      "text/plain": [
       "[<matplotlib.lines.Line2D at 0x7f94a42f3610>]"
      ]
     },
     "execution_count": 30,
     "metadata": {},
     "output_type": "execute_result"
    },
    {
     "data": {
      "image/png": "[encoded data removed]",
      "text/plain": [
       "<Figure size 432x288 with 1 Axes>"
      ]
     },
     "metadata": {
      "needs_background": "light"
     },
     "output_type": "display_data"
    }
   ],
   "source": [
    "plt.scatter(x_train, y_train_num, alpha=.1, s=10)\n",
    "plt.plot([.25, .25], [-.1, .1])\n",
    "plt.plot([.75, .75], [-.1, .1])"
   ]
  },
  {
   "cell_type": "code",
   "execution_count": 31,
   "metadata": {},
   "outputs": [
    {
     "data": {
      "text/plain": [
       "[<matplotlib.lines.Line2D at 0x7f94a4cdc0d0>]"
      ]
     },
     "execution_count": 31,
     "metadata": {},
     "output_type": "execute_result"
    },
    {
     "data": {
      "image/png": "[encoded data removed]",
      "text/plain": [
       "<Figure size 432x288 with 1 Axes>"
      ]
     },
     "metadata": {
      "needs_background": "light"
     },
     "output_type": "display_data"
    }
   ],
   "source": [
    "plt.plot(x_test, p_test[:, 0], lw=5, alpha=.5)\n",
    "plt.plot(x_test, p_test[:, 1])\n",
    "plt.plot(x_test, p_test[:, 2])"
   ]
  },
  {
   "cell_type": "code",
   "execution_count": 32,
   "metadata": {},
   "outputs": [],
   "source": [
    "def get_error(y_num, p_test, y_test=None):\n",
    "    if y_test is None:\n",
    "        y_test = get_num(p_test)\n",
    "    n_test = len(y_test)\n",
    "    ind = np.arange(n_test)\n",
    "    return (p_test[ind, y_test] - p_test[ind, y_num]).mean()"
   ]
  },
  {
   "cell_type": "code",
   "execution_count": 39,
   "metadata": {},
   "outputs": [
    {
     "name": "stdout",
     "output_type": "stream",
     "text": [
      "0,1,2,3,4,5,6,7,8,9,10,11,12,13,14,15,16,17,18,19,20,21,22,23,24,25,26,27,28,29,30,31,32,33,34,35,36,37,38,39,"
     ]
    }
   ],
   "source": [
    "n_exp = 40\n",
    "m = 100\n",
    "n_train = int(1e4)\n",
    "\n",
    "alpha = np.zeros((n_train, m), np.float32)\n",
    "average_alpha = np.zeros((n_train, m), np.float32)\n",
    "err = np.zeros((n_exp, n_train), np.float32)\n",
    "\n",
    "alpha_bis = np.zeros((n_train, m), np.float32)\n",
    "average_alpha_bis = np.zeros((n_train, m), np.float32)\n",
    "err_bis = np.zeros((n_exp, n_train), np.float32)\n",
    "\n",
    "n_test = int(1e2)\n",
    "x_test = get_inputs(n_test, test=True)\n",
    "p_test = get_eta(x_test, m=m)\n",
    "y_test = get_num(p_test)\n",
    "\n",
    "gamma_0 = 1\n",
    "gamma = get_stepsize(n_train, gamma_0)\n",
    "\n",
    "sigma = .2\n",
    "kernel = Kernel('gaussian', sigma=sigma)\n",
    "K = np.zeros((n_train, n_train), dtype=np.float32)\n",
    "k_test = np.zeros((n_test, n_train), dtype=np.float32)\n",
    "\n",
    "for j in range(n_exp):\n",
    "    x_train = get_inputs(n_train).astype(np.float32)\n",
    "    y_train = get_one_hot(get_labels(x_train, m=m), m=m).astype(np.float32)\n",
    "    kernel.set_support(x_train[:, np.newaxis])\n",
    "    K[:] = kernel(x_train[:, np.newaxis])\n",
    "    k_test[:] = kernel(x_test[:, np.newaxis]).T\n",
    "\n",
    "    u = generate_random_sphere(n_train, m).astype(np.float32)\n",
    "    u_coor = generate_random_coordinate(n_train, m).astype(np.float32)\n",
    "\n",
    "    alpha[:] = 0\n",
    "    average_alpha[:] = 0\n",
    "\n",
    "    alpha_bis[:] = 0\n",
    "    average_alpha_bis[:] = 0\n",
    "    \n",
    "    for i in range(n_train):\n",
    "        epsilon = np.sign(np.dot(K[i, :i+1] @ alpha[:i+1] - y_train[i], u[i]))\n",
    "        alpha[i] -= epsilon * gamma[i] * u[i]\n",
    "        average_alpha += alpha\n",
    "\n",
    "        epsilon_bis = np.sign(np.dot(K[i, :i+1] @ alpha_bis[:i+1] - y_train[i], u_coor[i]))\n",
    "        alpha_bis[i] -= epsilon_bis * gamma[i] * u_coor[i]\n",
    "        average_alpha_bis += alpha_bis\n",
    "        \n",
    "        y_num = get_num(k_test[:, :i+1] @ average_alpha[:i+1])\n",
    "        y_num_bis = get_num(k_test[:, :i+1] @ average_alpha_bis[:i+1])\n",
    "        err[j, i] = get_error(y_num, p_test, y_test=y_test)\n",
    "        err_bis[j, i] = get_error(y_num_bis, p_test, y_test=y_test)\n",
    "\n",
    "    print(j, end=',', flush=True)\n",
    "\n",
    "# y_pred = k_test @ alpha\n",
    "# y_pred_bis = k_test @ alpha_bis"
   ]
  },
  {
   "cell_type": "code",
   "execution_count": 40,
   "metadata": {},
   "outputs": [],
   "source": [
    "ave_error = err.mean(axis=0)\n",
    "std_error = err.std(axis=0)\n",
    "ave_error_bis = err_bis.mean(axis=0)\n",
    "std_error_bis = err_bis.std(axis=0)"
   ]
  },
  {
   "cell_type": "code",
   "execution_count": 41,
   "metadata": {},
   "outputs": [
    {
     "data": {
      "image/png": "[encoded data removed]",
      "text/plain": [
       "<Figure size 180x126 with 1 Axes>"
      ]
     },
     "metadata": {
      "needs_background": "light"
     },
     "output_type": "display_data"
    }
   ],
   "source": [
    "fig, ax = plt.subplots(1, 1, figsize=(2.5, 1.75))\n",
    "ax.fill_between(np.arange(n_train) + 1, ave_error + std_error, ave_error - std_error, color='C0', alpha=.2)\n",
    "a, = ax.plot(np.arange(n_train) + 1, ave_error, c='C0')\n",
    "ax.fill_between(np.arange(n_train) + 1, ave_error_bis + std_error_bis, ave_error_bis - std_error_bis, color='C1', alpha=.2)\n",
    "b, = ax.plot(np.arange(n_train) + 1, ave_error_bis, c='C1')\n",
    "ax.set_xscale('log')\n",
    "ax.set_yscale('log')\n",
    "ax.legend([a, b], ['active', 'passive'], prop={'size': 6})\n",
    "plt.yticks(fontsize=6)\n",
    "plt.xticks(fontsize=6)\n",
    "ax.set_title(r'Classification task', size=10)\n",
    "ax.set_xlabel(r\"iteration $T$\", size=8)\n",
    "ax.set_ylabel(r\"Risk of $\\bar\\theta_T$\", size=8)\n",
    "fig.tight_layout()\n",
    "# fig.savefig(\"classification_error.pdf\")"
   ]
  },
  {
   "cell_type": "code",
   "execution_count": null,
   "metadata": {},
   "outputs": [],
   "source": []
  }
 ],
 "metadata": {
  "kernelspec": {
   "display_name": "Python 3.9.13 64-bit",
   "language": "python",
   "name": "python3"
  },
  "language_info": {
   "codemirror_mode": {
    "name": "ipython",
    "version": 3
   },
   "file_extension": ".py",
   "mimetype": "text/x-python",
   "name": "python",
   "nbconvert_exporter": "python",
   "pygments_lexer": "ipython3",
   "version": "3.9.13"
  },
  "orig_nbformat": 4,
  "vscode": {
   "interpreter": {
    "hash": "aee8b7b246df8f9039afb4144a1f6fd8d2ca17a180786b69acc140d282b71a49"
   }
  }
 },
 "nbformat": 4,
 "nbformat_minor": 2
}
