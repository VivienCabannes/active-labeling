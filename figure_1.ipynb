{
 "cells": [
  {
   "cell_type": "code",
   "execution_count": 1,
   "metadata": {},
   "outputs": [],
   "source": [
    "import numpy as np\n",
    "import matplotlib.pyplot as plt\n",
    "from kernel import Kernel"
   ]
  },
  {
   "cell_type": "code",
   "execution_count": 2,
   "metadata": {},
   "outputs": [],
   "source": [
    "%load_ext autoreload\n",
    "%autoreload 2"
   ]
  },
  {
   "cell_type": "code",
   "execution_count": 3,
   "id": "sexual-violation",
   "metadata": {},
   "outputs": [
    {
     "name": "stderr",
     "output_type": "stream",
     "text": [
      "/var/folders/yg/djxj05p562nc92kcrz6sfj3c0000gn/T/ipykernel_35351/3356598534.py:2: MatplotlibDeprecationWarning: Support for setting an rcParam that expects a str value to a non-str value is deprecated since 3.5 and support will be removed two minor releases later.\n",
      "  plt.rcParams['text.latex.preamble'] = [r'\\usepackage{newtxmath}']\n"
     ]
    }
   ],
   "source": [
    "%matplotlib inline\n",
    "plt.rcParams['text.latex.preamble'] = [r'\\usepackage{newtxmath}'] \n",
    "plt.rcParams['text.usetex'] = True\n",
    "plt.rcParams[\"font.family\"] = \"serif\"\n",
    "plt.rcParams[\"font.serif\"] = \"Times\"\n",
    "plt.rc('text', usetex=True)"
   ]
  },
  {
   "cell_type": "code",
   "execution_count": 4,
   "metadata": {},
   "outputs": [],
   "source": [
    "np.random.seed(100)"
   ]
  },
  {
   "cell_type": "code",
   "execution_count": 5,
   "metadata": {},
   "outputs": [],
   "source": [
    "def target_func(x, omega=2*np.pi):\n",
    "    return np.sin(omega * x)\n",
    "\n",
    "n_train = 30\n",
    "x_train = np.random.rand(n_train)[:, np.newaxis]\n",
    "\n",
    "sigma = .2\n",
    "kernel = Kernel('gaussian', sigma=sigma)\n",
    "kernel.set_support(x_train)\n",
    "K = kernel(x_train)\n",
    "\n",
    "x_test = np.linspace(0, 1, 50)\n",
    "y_test = target_func(x_test)\n",
    "k_test = kernel(x_test[:, np.newaxis]).T\n"
   ]
  },
  {
   "cell_type": "code",
   "execution_count": 6,
   "metadata": {},
   "outputs": [],
   "source": [
    "alpha = np.zeros(n_train, float)\n",
    "epsilon = np.zeros((n_train, 2), float)\n",
    "gamma_0 = .3\n",
    "gamma = np.full(n_train, gamma_0, float)\n",
    "for i in range(n_train):\n",
    "    z = K[i] @ alpha\n",
    "    epsilon[i, 0] = np.sign(z - target_func(x_train[i,0]))\n",
    "    epsilon[i, 1] = z\n",
    "    alpha[i] -= epsilon[i, 0] * gamma[i]"
   ]
  },
  {
   "cell_type": "code",
   "execution_count": 7,
   "metadata": {},
   "outputs": [
    {
     "data": {
      "image/png": "[encoded data removed]",
      "text/plain": [
       "<Figure size 180x126 with 1 Axes>"
      ]
     },
     "metadata": {},
     "output_type": "display_data"
    }
   ],
   "source": [
    "fig, ax = plt.subplots(1,1, figsize=(2.5, 1.75))\n",
    "ind = epsilon[:, 0] == 1\n",
    "a = ax.scatter(x_train[ind, 0], epsilon[ind, 1], s=10)\n",
    "ind = epsilon[:, 0] == -1\n",
    "b = ax.scatter(x_train[ind, 0], epsilon[ind, 1], s=10)\n",
    "c, = ax.plot(x_test, y_test, linestyle='--')\n",
    "y_pred = k_test @ alpha\n",
    "d, = ax.plot(x_test, y_pred, alpha=.7)\n",
    "ax.legend([c,d], ['Signal', 'Reconstruction'], prop={\"size\": 8})\n",
    "ax.set_ylim(-2.5, 2.5)\n",
    "ax.set_xticks([])\n",
    "ax.set_yticks([])\n",
    "ax.set_title(r'Active strategy', size=10)\n",
    "ax.set_xlabel(r'Inputs',size=8)\n",
    "ax.set_ylabel(r'Outputs', size=8)\n",
    "fig.tight_layout()\n",
    "fig.savefig('one_d_active.pdf')"
   ]
  },
  {
   "cell_type": "code",
   "execution_count": 8,
   "metadata": {},
   "outputs": [],
   "source": [
    "epsilon_bis = np.zeros((n_train, 2), float)\n",
    "epsilon_bis[:, 1] = np.random.randn(n_train)"
   ]
  },
  {
   "cell_type": "code",
   "execution_count": 9,
   "metadata": {},
   "outputs": [],
   "source": [
    "alpha_bis = np.zeros(n_train, float)\n",
    "gamma_0 = .7\n",
    "gamma = np.full(n_train, gamma_0, float)\n",
    "for i in range(n_train):\n",
    "    epsilon_bis[i, 0] = np.sign(epsilon_bis[i, 1] - target_func(x_train[i,0]))\n",
    "    err = np.sign(epsilon_bis[i, 1] - K[i] @ alpha_bis)\n",
    "    if err != epsilon_bis[i, 0]:\n",
    "        alpha_bis[i] -= epsilon_bis[i, 0] * gamma[i]"
   ]
  },
  {
   "cell_type": "code",
   "execution_count": 10,
   "metadata": {},
   "outputs": [
    {
     "data": {
      "image/png": "[encoded data removed]",
      "text/plain": [
       "<Figure size 180x126 with 1 Axes>"
      ]
     },
     "metadata": {},
     "output_type": "display_data"
    }
   ],
   "source": [
    "fig, ax = plt.subplots(1,1, figsize=(2.5, 1.75))\n",
    "ind = epsilon_bis[:, 0] == 1\n",
    "a = ax.scatter(x_train[ind, 0], epsilon_bis[ind, 1], s=10)\n",
    "ind = epsilon_bis[:, 0] == -1\n",
    "b = ax.scatter(x_train[ind, 0], epsilon_bis[ind, 1], s=10)\n",
    "c, = ax.plot(x_test, y_test, linestyle='--')\n",
    "y_pred_bis = k_test @ alpha_bis\n",
    "d, = ax.plot(x_test, y_pred_bis, alpha=.7)\n",
    "ax.legend([a,b], ['Above', 'Below'], prop={\"size\": 8})\n",
    "ax.set_ylim(-2.5, 2.5)\n",
    "ax.set_xticks([])\n",
    "ax.set_yticks([])\n",
    "ax.set_title('Passive strategy', size=10)\n",
    "ax.set_xlabel(r'Inputs',size=8)\n",
    "ax.set_ylabel(r'Outputs', size=8)\n",
    "fig.tight_layout()\n",
    "fig.savefig('one_d_passive.pdf')"
   ]
  },
  {
   "cell_type": "code",
   "execution_count": null,
   "metadata": {},
   "outputs": [],
   "source": []
  }
 ],
 "metadata": {
  "interpreter": {
   "hash": "6e77f3e809b5fc3967aec2f13ddc30d03656368ceeeb4442aff5a03adfc28979"
  },
  "kernelspec": {
   "display_name": "Python 3.9.12 ('art')",
   "language": "python",
   "name": "python3"
  },
  "language_info": {
   "codemirror_mode": {
    "name": "ipython",
    "version": 3
   },
   "file_extension": ".py",
   "mimetype": "text/x-python",
   "name": "python",
   "nbconvert_exporter": "python",
   "pygments_lexer": "ipython3",
   "version": "3.9.12"
  },
  "orig_nbformat": 4
 },
 "nbformat": 4,
 "nbformat_minor": 2
}
